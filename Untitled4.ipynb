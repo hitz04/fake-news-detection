{
  "nbformat": 4,
  "nbformat_minor": 0,
  "metadata": {
    "colab": {
      "provenance": []
    },
    "kernelspec": {
      "name": "python3",
      "display_name": "Python 3"
    },
    "language_info": {
      "name": "python"
    },
    "widgets": {
      "application/vnd.jupyter.widget-state+json": {
        "25abd0fed40e498a9900359196c7beb8": {
          "model_module": "@jupyter-widgets/controls",
          "model_name": "TextareaModel",
          "model_module_version": "1.5.0",
          "state": {
            "_dom_classes": [],
            "_model_module": "@jupyter-widgets/controls",
            "_model_module_version": "1.5.0",
            "_model_name": "TextareaModel",
            "_view_count": null,
            "_view_module": "@jupyter-widgets/controls",
            "_view_module_version": "1.5.0",
            "_view_name": "TextareaView",
            "continuous_update": true,
            "description": "News Text:",
            "description_tooltip": null,
            "disabled": false,
            "layout": "IPY_MODEL_f6a3549a51694706a093acf8482c49c6",
            "placeholder": "Type text",
            "rows": null,
            "style": "IPY_MODEL_6ef63c3763f044e688a1d9fb62721c51",
            "value": "Paste your news article here..."
          }
        },
        "f6a3549a51694706a093acf8482c49c6": {
          "model_module": "@jupyter-widgets/base",
          "model_name": "LayoutModel",
          "model_module_version": "1.2.0",
          "state": {
            "_model_module": "@jupyter-widgets/base",
            "_model_module_version": "1.2.0",
            "_model_name": "LayoutModel",
            "_view_count": null,
            "_view_module": "@jupyter-widgets/base",
            "_view_module_version": "1.2.0",
            "_view_name": "LayoutView",
            "align_content": null,
            "align_items": null,
            "align_self": null,
            "border": null,
            "bottom": null,
            "display": null,
            "flex": null,
            "flex_flow": null,
            "grid_area": null,
            "grid_auto_columns": null,
            "grid_auto_flow": null,
            "grid_auto_rows": null,
            "grid_column": null,
            "grid_gap": null,
            "grid_row": null,
            "grid_template_areas": null,
            "grid_template_columns": null,
            "grid_template_rows": null,
            "height": "150px",
            "justify_content": null,
            "justify_items": null,
            "left": null,
            "margin": null,
            "max_height": null,
            "max_width": null,
            "min_height": null,
            "min_width": null,
            "object_fit": null,
            "object_position": null,
            "order": null,
            "overflow": null,
            "overflow_x": null,
            "overflow_y": null,
            "padding": null,
            "right": null,
            "top": null,
            "visibility": null,
            "width": "100%"
          }
        },
        "6ef63c3763f044e688a1d9fb62721c51": {
          "model_module": "@jupyter-widgets/controls",
          "model_name": "DescriptionStyleModel",
          "model_module_version": "1.5.0",
          "state": {
            "_model_module": "@jupyter-widgets/controls",
            "_model_module_version": "1.5.0",
            "_model_name": "DescriptionStyleModel",
            "_view_count": null,
            "_view_module": "@jupyter-widgets/base",
            "_view_module_version": "1.2.0",
            "_view_name": "StyleView",
            "description_width": ""
          }
        },
        "097795be94604ef8b1d75716e5e74b1d": {
          "model_module": "@jupyter-widgets/controls",
          "model_name": "ButtonModel",
          "model_module_version": "1.5.0",
          "state": {
            "_dom_classes": [],
            "_model_module": "@jupyter-widgets/controls",
            "_model_module_version": "1.5.0",
            "_model_name": "ButtonModel",
            "_view_count": null,
            "_view_module": "@jupyter-widgets/controls",
            "_view_module_version": "1.5.0",
            "_view_name": "ButtonView",
            "button_style": "primary",
            "description": "Predict Label",
            "disabled": false,
            "icon": "",
            "layout": "IPY_MODEL_e903ea6c7e45406f92d04f9b5e36be1e",
            "style": "IPY_MODEL_2147dfcf6d7d41df9ac287e8507409b4",
            "tooltip": ""
          }
        },
        "e903ea6c7e45406f92d04f9b5e36be1e": {
          "model_module": "@jupyter-widgets/base",
          "model_name": "LayoutModel",
          "model_module_version": "1.2.0",
          "state": {
            "_model_module": "@jupyter-widgets/base",
            "_model_module_version": "1.2.0",
            "_model_name": "LayoutModel",
            "_view_count": null,
            "_view_module": "@jupyter-widgets/base",
            "_view_module_version": "1.2.0",
            "_view_name": "LayoutView",
            "align_content": null,
            "align_items": null,
            "align_self": null,
            "border": null,
            "bottom": null,
            "display": null,
            "flex": null,
            "flex_flow": null,
            "grid_area": null,
            "grid_auto_columns": null,
            "grid_auto_flow": null,
            "grid_auto_rows": null,
            "grid_column": null,
            "grid_gap": null,
            "grid_row": null,
            "grid_template_areas": null,
            "grid_template_columns": null,
            "grid_template_rows": null,
            "height": null,
            "justify_content": null,
            "justify_items": null,
            "left": null,
            "margin": null,
            "max_height": null,
            "max_width": null,
            "min_height": null,
            "min_width": null,
            "object_fit": null,
            "object_position": null,
            "order": null,
            "overflow": null,
            "overflow_x": null,
            "overflow_y": null,
            "padding": null,
            "right": null,
            "top": null,
            "visibility": null,
            "width": null
          }
        },
        "2147dfcf6d7d41df9ac287e8507409b4": {
          "model_module": "@jupyter-widgets/controls",
          "model_name": "ButtonStyleModel",
          "model_module_version": "1.5.0",
          "state": {
            "_model_module": "@jupyter-widgets/controls",
            "_model_module_version": "1.5.0",
            "_model_name": "ButtonStyleModel",
            "_view_count": null,
            "_view_module": "@jupyter-widgets/base",
            "_view_module_version": "1.2.0",
            "_view_name": "StyleView",
            "button_color": null,
            "font_weight": ""
          }
        },
        "810c1d878cd742be91df86a2b3656bc5": {
          "model_module": "@jupyter-widgets/output",
          "model_name": "OutputModel",
          "model_module_version": "1.0.0",
          "state": {
            "_dom_classes": [],
            "_model_module": "@jupyter-widgets/output",
            "_model_module_version": "1.0.0",
            "_model_name": "OutputModel",
            "_view_count": null,
            "_view_module": "@jupyter-widgets/output",
            "_view_module_version": "1.0.0",
            "_view_name": "OutputView",
            "layout": "IPY_MODEL_f9b73ae8c492485ea80f3df49644e2b8",
            "msg_id": "",
            "outputs": []
          }
        },
        "f9b73ae8c492485ea80f3df49644e2b8": {
          "model_module": "@jupyter-widgets/base",
          "model_name": "LayoutModel",
          "model_module_version": "1.2.0",
          "state": {
            "_model_module": "@jupyter-widgets/base",
            "_model_module_version": "1.2.0",
            "_model_name": "LayoutModel",
            "_view_count": null,
            "_view_module": "@jupyter-widgets/base",
            "_view_module_version": "1.2.0",
            "_view_name": "LayoutView",
            "align_content": null,
            "align_items": null,
            "align_self": null,
            "border": null,
            "bottom": null,
            "display": null,
            "flex": null,
            "flex_flow": null,
            "grid_area": null,
            "grid_auto_columns": null,
            "grid_auto_flow": null,
            "grid_auto_rows": null,
            "grid_column": null,
            "grid_gap": null,
            "grid_row": null,
            "grid_template_areas": null,
            "grid_template_columns": null,
            "grid_template_rows": null,
            "height": null,
            "justify_content": null,
            "justify_items": null,
            "left": null,
            "margin": null,
            "max_height": null,
            "max_width": null,
            "min_height": null,
            "min_width": null,
            "object_fit": null,
            "object_position": null,
            "order": null,
            "overflow": null,
            "overflow_x": null,
            "overflow_y": null,
            "padding": null,
            "right": null,
            "top": null,
            "visibility": null,
            "width": null
          }
        }
      }
    }
  },
  "cells": [
    {
      "cell_type": "code",
      "execution_count": 2,
      "metadata": {
        "colab": {
          "base_uri": "https://localhost:8080/",
          "height": 887,
          "referenced_widgets": [
            "25abd0fed40e498a9900359196c7beb8",
            "f6a3549a51694706a093acf8482c49c6",
            "6ef63c3763f044e688a1d9fb62721c51",
            "097795be94604ef8b1d75716e5e74b1d",
            "e903ea6c7e45406f92d04f9b5e36be1e",
            "2147dfcf6d7d41df9ac287e8507409b4",
            "810c1d878cd742be91df86a2b3656bc5",
            "f9b73ae8c492485ea80f3df49644e2b8"
          ]
        },
        "id": "UuvbxCSNxSX4",
        "outputId": "afe4d471-edb2-4b1e-bdb1-1cfba27fde94"
      },
      "outputs": [
        {
          "output_type": "stream",
          "name": "stdout",
          "text": [
            "Accuracy: 0.9885\n",
            "\n",
            "Classification Report:\n",
            "              precision    recall  f1-score   support\n",
            "\n",
            "        Fake       0.99      0.98      0.99      4696\n",
            "        Real       0.98      0.99      0.99      4284\n",
            "\n",
            "    accuracy                           0.99      8980\n",
            "   macro avg       0.99      0.99      0.99      8980\n",
            "weighted avg       0.99      0.99      0.99      8980\n",
            "\n"
          ]
        },
        {
          "output_type": "display_data",
          "data": {
            "text/plain": [
              "<Figure size 500x400 with 2 Axes>"
            ],
            "image/png": "[encoded data removed]"
          },
          "metadata": {}
        },
        {
          "output_type": "stream",
          "name": "stdout",
          "text": [
            "Saved model & vectorizer to /mnt/data/fake_news_model\n",
            "\n",
            "### Interactive Fake News Prediction\n"
          ]
        },
        {
          "output_type": "display_data",
          "data": {
            "text/plain": [
              "Textarea(value='Paste your news article here...', description='News Text:', layout=Layout(height='150px', widt…"
            ],
            "application/vnd.jupyter.widget-view+json": {
              "version_major": 2,
              "version_minor": 0,
              "model_id": "25abd0fed40e498a9900359196c7beb8"
            }
          },
          "metadata": {}
        },
        {
          "output_type": "display_data",
          "data": {
            "text/plain": [
              "Button(button_style='primary', description='Predict Label', style=ButtonStyle())"
            ],
            "application/vnd.jupyter.widget-view+json": {
              "version_major": 2,
              "version_minor": 0,
              "model_id": "097795be94604ef8b1d75716e5e74b1d"
            }
          },
          "metadata": {}
        },
        {
          "output_type": "display_data",
          "data": {
            "text/plain": [
              "Output()"
            ],
            "application/vnd.jupyter.widget-view+json": {
              "version_major": 2,
              "version_minor": 0,
              "model_id": "810c1d878cd742be91df86a2b3656bc5"
            }
          },
          "metadata": {}
        }
      ],
      "source": [
        "# === Interactive Fake News Detection Notebook ===\n",
        "# Reads Fake.csv and True.csv, trains model with TF-IDF + Logistic Regression,\n",
        "# allows hyperparameter tuning via Colab form, and provides an interactive widget\n",
        "# for single-article prediction.\n",
        "\n",
        "# 1. Imports and Setup\n",
        "import os\n",
        "import pandas as pd\n",
        "import numpy as np\n",
        "from sklearn.model_selection import train_test_split\n",
        "from sklearn.feature_extraction.text import TfidfVectorizer\n",
        "from sklearn.linear_model import LogisticRegression\n",
        "from sklearn.metrics import classification_report, confusion_matrix, accuracy_score\n",
        "import matplotlib.pyplot as plt\n",
        "import joblib # Moved joblib import here\n",
        "\n",
        "# Widgets for interaction\n",
        "from IPython.display import display\n",
        "import ipywidgets as widgets\n",
        "\n",
        "# 2. Load Data\n",
        "fake = pd.read_csv('Fake.csv')\n",
        "true = pd.read_csv('True.csv')\n",
        "\n",
        "# Normalize column names\n",
        "fake.columns = [c.strip().lower() for c in fake.columns]\n",
        "true.columns = [c.strip().lower() for c in true.columns]\n",
        "\n",
        "# Label data\n",
        "fake['label'] = 0  # fake\n",
        "true['label'] = 1  # real\n",
        "\n",
        "data = pd.concat([fake[['title','text','label']], true[['title','text','label']]],\n",
        "                 axis=0).sample(frac=1, random_state=42).reset_index(drop=True)\n",
        "\n",
        "# 3. Colab Form: Hyperparameters\n",
        "#@title 🚀 Model Hyperparameters { display-mode: \"form\" }\n",
        "test_size = 0.2       #@param {type:\"number\", min:0.1, max:0.5, step:0.05}\n",
        "max_features = 5000   #@param {type:\"integer\"}\n",
        "ngram_min = 1         #@param {type:\"integer\", min:1, max:2, step:1}\n",
        "ngram_max = 2         #@param {type:\"integer\", min:1, max:3, step:1}\n",
        "C = 1.0               #@param {type:\"number\", min:0.01, max:10.0, step:0.01}\n",
        "max_iter = 1000       #@param {type:\"integer\", min:100, max:5000, step:100}\n",
        "random_state = 42     #@param {type:\"integer\"}\n",
        "\n",
        "# 4. Split Data\n",
        "train_df, test_df = train_test_split(\n",
        "    data, test_size=test_size, random_state=random_state, stratify=data['label']\n",
        ")\n",
        "\n",
        "# 5. Vectorization\n",
        "vectorizer = TfidfVectorizer(\n",
        "    max_features=max_features,\n",
        "    ngram_range=(ngram_min, ngram_max),\n",
        "    stop_words='english'\n",
        ")\n",
        "X_train = vectorizer.fit_transform(train_df['text'])\n",
        "X_test  = vectorizer.transform(test_df['text'])\n",
        "y_train = train_df['label']\n",
        "y_test  = test_df['label']\n",
        "\n",
        "# 6. Model Training\n",
        "model = LogisticRegression(\n",
        "    C=C,\n",
        "    max_iter=max_iter,\n",
        "    solver='saga',\n",
        "    n_jobs=-1,\n",
        "    random_state=random_state\n",
        ")\n",
        "model.fit(X_train, y_train)\n",
        "\n",
        "# 7. Evaluation Summary\n",
        "y_pred = model.predict(X_test)\n",
        "acc = accuracy_score(y_test, y_pred)\n",
        "print(f\"Accuracy: {acc:.4f}\\n\")\n",
        "print(\"Classification Report:\")\n",
        "print(classification_report(y_test, y_pred, target_names=['Fake', 'Real']))\n",
        "\n",
        "# Plot Confusion Matrix\n",
        "tm = confusion_matrix(y_test, y_pred)\n",
        "plt.figure(figsize=(5,4))\n",
        "plt.imshow(tm, interpolation='nearest', cmap=plt.cm.Blues)\n",
        "plt.title('Confusion Matrix')\n",
        "plt.colorbar()\n",
        "labels = ['Fake','Real']\n",
        "plt.xticks([0,1], labels)\n",
        "plt.yticks([0,1], labels)\n",
        "for i in range(2):\n",
        "    for j in range(2):\n",
        "        plt.text(j, i, tm[i,j], ha='center', va='center')\n",
        "plt.ylabel('True label')\n",
        "plt.xlabel('Predicted label')\n",
        "plt.tight_layout()\n",
        "plt.show()\n",
        "\n",
        "# 8. Save Model & Vectorizer\n",
        "out_dir = '/mnt/data/fake_news_model'\n",
        "if not os.path.exists(out_dir): os.makedirs(out_dir)\n",
        "joblib.dump(model, os.path.join(out_dir, 'lr_model.joblib'))\n",
        "joblib.dump(vectorizer, os.path.join(out_dir, 'tfidf_vectorizer.joblib'))\n",
        "print(f\"Saved model & vectorizer to {out_dir}\\n\")\n",
        "\n",
        "# 9. Interactive Prediction Widget\n",
        "input_text = widgets.Textarea(\n",
        "    value='Paste your news article here...',\n",
        "    placeholder='Type text',\n",
        "    description='News Text:',\n",
        "    layout=widgets.Layout(width='100%', height='150px')\n",
        ")\n",
        "\n",
        "predict_button = widgets.Button(\n",
        "    description='Predict Label',\n",
        "    button_style='primary'\n",
        ")\n",
        "\n",
        "output = widgets.Output()\n",
        "\n",
        "\n",
        "def on_predict_clicked(b):\n",
        "    with output:\n",
        "        output.clear_output()\n",
        "        text = input_text.value.strip()\n",
        "        if not text:\n",
        "            print(\"Please enter some text to classify.\")\n",
        "            return\n",
        "        X_new = vectorizer.transform([text])\n",
        "        pred = model.predict(X_new)[0]\n",
        "        prob = model.predict_proba(X_new).max()\n",
        "        label = \"Real\" if pred == 1 else \"Fake\"\n",
        "        print(f\"Prediction: {label}\")\n",
        "        print(f\"Confidence: {prob:.2%}\")\n",
        "\n",
        "predict_button.on_click(on_predict_clicked)\n",
        "\n",
        "print(\"### Interactive Fake News Prediction\")\n",
        "display(input_text, predict_button, output)"
      ]
    },
    {
      "cell_type": "code",
      "source": [
        "joblib.dump(model, \"model.pkl\")\n",
        "joblib.dump(vectorizer, \"vectorizer.pkl\")"
      ],
      "metadata": {
        "colab": {
          "base_uri": "https://localhost:8080/"
        },
        "id": "cJ7HBsH_xqGz",
        "outputId": "16e9d7da-2f6e-4a1b-ded5-54ac57d0472f"
      },
      "execution_count": 4,
      "outputs": [
        {
          "output_type": "execute_result",
          "data": {
            "text/plain": [
              "['vectorizer.pkl']"
            ]
          },
          "metadata": {},
          "execution_count": 4
        }
      ]
    }
  ]
}